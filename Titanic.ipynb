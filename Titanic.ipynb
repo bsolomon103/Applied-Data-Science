{
 "cells": [
  {
   "cell_type": "code",
   "execution_count": 1,
   "metadata": {},
   "outputs": [],
   "source": [
    "import pandas as pd\n",
    "import numpy as np \n",
    "\n",
    "train = pd.read_csv('/Users/emilyvincett/Downloads/titanic/train.csv')\n",
    "\n",
    "#Drop cabin from features as too many null values\n",
    "features_to_use = ['PassengerId','Survived','Pclass','Sex','Age',\n",
    "                   'SibSp','Parch','Fare','Embarked']\n",
    "\n",
    "train = train[features_to_use]\n",
    "\n",
    "#Drop null values in Age and Embarked\n",
    "train = train.dropna()\n",
    "y = train['Survived'].astype(str)\n",
    "X = train.drop('Survived',axis=1).astype(str)\n",
    "\n",
    "\n",
    "\n",
    "    "
   ]
  },
  {
   "cell_type": "code",
   "execution_count": 44,
   "metadata": {},
   "outputs": [],
   "source": [
    "from sklearn.model_selection import train_test_split,GridSearchCV\n",
    "from sklearn.feature_selection import SelectKBest, f_classif\n",
    "from sklearn.preprocessing import OneHotEncoder\n",
    "\n",
    "# Split the data\n",
    "X_train,X_test,y_train,y_test = train_test_split(X,y,random_state=0)\n",
    "enc = OneHotEncoder(sparse=False)\n",
    "\n",
    "#Encode the gender column on training set \n",
    "to_encode = X_train['Sex'].values.reshape(-1,1)\n",
    "encoded_sex = enc.fit_transform(to_encode)\n",
    "encoded_sex_df = pd.DataFrame(encoded_sex)\n",
    "encoded_sex_df = encoded_sex_df.rename({0:'Female',1:'Male'},axis=1).reset_index().set_index(X_train.index).reset_index()\n",
    "\n",
    "X_train = X_train.reset_index().merge(encoded_sex_df, left_on='index',right_on='level_0').set_index('index_x').drop(['Sex','level_0','index_y','blank'],axis=1)\n",
    "\n",
    "#Encode the embarked column on training set \n",
    "to_encode = X_train['Embarked'].values.reshape(-1,1)\n",
    "encoded_embark = enc.fit_transform(to_encode)\n",
    "encoded_embark_df  = pd.DataFrame(encoded_embark).reset_index().set_index(X_train.index).drop('index',axis=1)\n",
    "X_train = X_train.merge(encoded_embark_df,left_on='index_x',right_on='index_x').rename({0:'Cherbourg',1:'Queenstown',2:'Southampton'},axis=1)\n",
    "\n",
    "\n",
    "#Encode the gender column in the test set\n",
    "to_encode = X_test['Sex'].values.reshape(-1,1)\n",
    "encoded_sex = enc.fit_transform(to_encode)\n",
    "encoded_sex_df = pd.DataFrame(encoded_sex)\n",
    "encoded_sex_df = encoded_sex_df.rename({0:'Female',1:'Male'},axis=1).reset_index().set_index(X_test.index).reset_index()\n",
    "\n",
    "X_test = X_test.reset_index().merge(encoded_sex_df, left_on='index',right_on='level_0').set_index('index_x').drop(['Sex','level_0','index_y','blank'],axis=1)\n",
    "\n",
    "#Encode the embarked column on training set \n",
    "to_encode = X_test['Embarked'].values.reshape(-1,1)\n",
    "encoded_embark = enc.fit_transform(to_encode)\n",
    "encoded_embark_df  = pd.DataFrame(encoded_embark).reset_index().set_index(X_test.index).drop('index',axis=1)\n",
    "X_test = X_test.merge(encoded_embark_df,left_on='index_x',right_on='index_x').rename({0:'Cherbourg',1:'Queenstown',2:'Southampton'},axis=1)\n",
    "\n",
    "\n",
    "X_train = X_train.drop('Embarked',axis=1)\n",
    "X_test = X_test.drop('Embarked',axis=1)"
   ]
  },
  {
   "cell_type": "code",
   "execution_count": 52,
   "metadata": {},
   "outputs": [
    {
     "name": "stdout",
     "output_type": "stream",
     "text": [
      "Model AUC 0.800\n",
      "Model Best Score 0.877\n",
      "Model Best Parameters {'class_weight': 'balanced_subsample', 'criterion': 'entropy', 'max_depth': 10, 'max_features': 'auto', 'min_samples_split': 2, 'n_estimators': 100}\n"
     ]
    }
   ],
   "source": [
    "from sklearn.ensemble import RandomForestClassifier \n",
    "from sklearn.metrics import roc_auc_score\n",
    "from sklearn.model_selection import GridSearchCV\n",
    "\n",
    "\n",
    "#Instantiate the classifier and save in variable\n",
    "clf = RandomForestClassifier(random_state=0)\n",
    "\n",
    "grid_values = {'n_estimators':[100,200],\n",
    "              'criterion':['gini','entropy'],\n",
    "              'max_features':['auto','sqrt','log2'],\n",
    "              'class_weight':['balanced','balanced_subsample'],\n",
    "              'max_depth':[10,20,50],\n",
    "              'min_samples_split':[2,10,30]}\n",
    "\n",
    "#Fit the classifier to GridSearch\n",
    "grid_clf_auc = GridSearchCV(clf, param_grid=grid_values, n_jobs=-1,scoring='roc_auc')\n",
    "grid_clf_auc.fit(X_train,y_train)\n",
    "predicted_labels = grid_clf_auc.predict(X_test)\n",
    "\n",
    "print('Model AUC %.3f' %(roc_auc_score(y_test,predicted_labels)))\n",
    "print('Model Best Score %.3f' %(grid_clf_auc.best_score_))\n",
    "print('Model Best Parameters {}'.format(grid_clf_auc.best_params_))\n",
    "\n",
    "\n",
    "\n"
   ]
  },
  {
   "cell_type": "code",
   "execution_count": null,
   "metadata": {},
   "outputs": [],
   "source": [
    "# Radius of the earth in km \n",
    "r = 6371\n",
    "\n",
    "# Take a specific hotel as a input\n",
    "hotel = input('Enter Hotel ID ')\n",
    "hotel = int(hotel)\n",
    "\n",
    "# Match it to entry in the dataframe and pull out is long & lat\n",
    "df.iloc[hotel]\n",
    "long_h = radians(df.iloc[hotel]['longitude'])\n",
    "lat_h = radians(df.iloc[hotel]['latitude'])\n",
    "\n",
    "# Iterate over the dataframe for entries other than the input hotel to pull out their long and lat\n",
    "for i in range(len(df)):\n",
    "    if i != hotel: \n",
    "        long_i = radians(df.iloc[i]['longitude'])\n",
    "        lat_i = radians(df.iloc[i]['latitude'])\n",
    "        long_diff = long_i - long_h \n",
    "        lat_diff = lat_i - lat_h\n",
    "        \n",
    "        #Haversine formula to calculate great circle distance between two points \n",
    "        a = sin(lat_diff/2)**2 + cos(lat_h) * cos(lat_i) * sin(long_diff/2)**2 \n",
    "        c = 2**asin(sqrt(a))\n",
    "        \n",
    "        # Create new column of distances from the input hotel\n",
    "        df['distance'] = c*r\n",
    "        # Sort values from nearest to furthest from input and pull out N closest hotels\n",
    "        recommendations = df.sort_values('distance', ascencind=True)[:N]\n",
    "        \n",
    "        "
   ]
  },
  {
   "cell_type": "code",
   "execution_count": null,
   "metadata": {},
   "outputs": [],
   "source": []
  },
  {
   "cell_type": "code",
   "execution_count": null,
   "metadata": {},
   "outputs": [],
   "source": []
  }
 ],
 "metadata": {
  "kernelspec": {
   "display_name": "Python 3",
   "language": "python",
   "name": "python3"
  },
  "language_info": {
   "codemirror_mode": {
    "name": "ipython",
    "version": 3
   },
   "file_extension": ".py",
   "mimetype": "text/x-python",
   "name": "python",
   "nbconvert_exporter": "python",
   "pygments_lexer": "ipython3",
   "version": "3.8.3"
  }
 },
 "nbformat": 4,
 "nbformat_minor": 4
}
