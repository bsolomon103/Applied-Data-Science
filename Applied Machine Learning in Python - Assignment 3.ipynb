{
 "cells": [
  {
   "cell_type": "code",
   "execution_count": 2,
   "metadata": {},
   "outputs": [
    {
     "data": {
      "text/plain": [
       "0.016410823768035772"
      ]
     },
     "execution_count": 2,
     "metadata": {},
     "output_type": "execute_result"
    }
   ],
   "source": [
    "def answer_one():\n",
    "    \n",
    "    import numpy as np \n",
    "    import pandas as pd\n",
    "\n",
    "    fraud  = pd.read_csv('/Users/emilyvincett/downloads/fraud_data.csv')\n",
    "    #class_0 = fraud[fraud['Class']==0].shape[0]/fraud.shape[0]\n",
    "    class_1 = fraud[fraud['Class']==1].shape[0]/fraud.shape[0]\n",
    "    return class_1\n",
    "\n",
    "answer_one()"
   ]
  },
  {
   "cell_type": "code",
   "execution_count": 4,
   "metadata": {},
   "outputs": [
    {
     "data": {
      "text/plain": [
       "(0.9852507374631269, 0.0)"
      ]
     },
     "execution_count": 4,
     "metadata": {},
     "output_type": "execute_result"
    }
   ],
   "source": [
    "def answer_two():\n",
    "    \n",
    "    from sklearn.model_selection import train_test_split \n",
    "    from sklearn.dummy import DummyClassifier\n",
    "    from sklearn.metrics import recall_score \n",
    "    import numpy as np \n",
    "    import pandas as pd\n",
    "\n",
    "    fraud = pd.read_csv('/Users/emilyvincett/downloads/fraud_data.csv')\n",
    "    fraud\n",
    "    X = fraud.iloc[:,:-1]\n",
    "    y = fraud.iloc[:,-1]\n",
    "\n",
    "    X_train, X_test, y_train, y_test = train_test_split(X, y, random_state=0)\n",
    "\n",
    "    dummy_majority = DummyClassifier(strategy = 'most_frequent').fit(X_train, y_train)\n",
    "    dummy_prediction = dummy_majority.predict(X_test)\n",
    "    dummy_score = dummy_majority.score(X_test, y_test)\n",
    "    dummy_score\n",
    "\n",
    "    recall = recall_score(y_test, dummy_prediction)\n",
    "    return dummy_score, recall\n",
    "\n",
    "answer_two()"
   ]
  },
  {
   "cell_type": "code",
   "execution_count": 6,
   "metadata": {},
   "outputs": [
    {
     "data": {
      "text/plain": [
       "(0.9900442477876106, 0.35, 0.9333333333333333)"
      ]
     },
     "execution_count": 6,
     "metadata": {},
     "output_type": "execute_result"
    }
   ],
   "source": [
    "def answer_three():\n",
    "    \n",
    "    from sklearn.metrics import recall_score, precision_score\n",
    "    from sklearn.svm import SVC \n",
    "    from sklearn.model_selection import train_test_split\n",
    "    import numpy as np \n",
    "    import pandas as pd\n",
    "\n",
    "    fraud = pd.read_csv('/Users/emilyvincett/downloads/fraud_data.csv')\n",
    "    fraud\n",
    "    X = fraud.iloc[:,:-1]\n",
    "    y = fraud.iloc[:,-1]\n",
    "\n",
    "    X_train, X_test, y_train, y_test = train_test_split(X, y, random_state=0)\n",
    "    clf = SVC().fit(X_train, y_train)\n",
    "    clf_prediction = clf.predict(X_test)\n",
    "    recall = recall_score(y_test,clf_prediction)\n",
    "    precision = precision_score(y_test,clf_prediction)\n",
    "    score = clf.score(X_test,y_test)\n",
    "    return score, recall, precision \n",
    "answer_three()"
   ]
  },
  {
   "cell_type": "code",
   "execution_count": 7,
   "metadata": {},
   "outputs": [
    {
     "data": {
      "text/plain": [
       "array([[5320,   24],\n",
       "       [  14,   66]])"
      ]
     },
     "execution_count": 7,
     "metadata": {},
     "output_type": "execute_result"
    }
   ],
   "source": [
    "def answer_four():\n",
    "    from sklearn.metrics import recall_score, precision_score,confusion_matrix\n",
    "    from sklearn.svm import SVC \n",
    "    from sklearn.model_selection import train_test_split\n",
    "    import numpy as np \n",
    "    import pandas as pd\n",
    "\n",
    "\n",
    "    fraud = pd.read_csv('/Users/emilyvincett/downloads/fraud_data.csv')\n",
    "    fraud\n",
    "    X = fraud.iloc[:,:-1]\n",
    "    y = fraud.iloc[:,-1]\n",
    "\n",
    "    X_train, X_test, y_train, y_test = train_test_split(X, y, random_state=0)\n",
    "\n",
    "    clf = SVC(C=1e9, gamma=1e-07).fit(X_train,y_train)\n",
    "    clf_prediction = clf.decision_function(X_test) > -220\n",
    "\n",
    "    confusion = confusion_matrix(y_test, clf_prediction)\n",
    "\n",
    "    return confusion\n",
    "\n",
    "answer_four()"
   ]
  },
  {
   "cell_type": "code",
   "execution_count": 20,
   "metadata": {},
   "outputs": [
    {
     "data": {
      "text/plain": [
       "(0.825, 0.925)"
      ]
     },
     "execution_count": 20,
     "metadata": {},
     "output_type": "execute_result"
    }
   ],
   "source": [
    "def answer_five():\n",
    "    \n",
    "    from sklearn.linear_model import LogisticRegression \n",
    "    from sklearn.metrics import recall_score, precision_score,confusion_matrix, precision_recall_curve\n",
    "    from sklearn.svm import SVC \n",
    "    from sklearn.model_selection import train_test_split\n",
    "    from sklearn.metrics import roc_curve, auc \n",
    "    import matplotlib.pyplot as plt\n",
    "    import numpy as np\n",
    "    import pandas as pd\n",
    "\n",
    "\n",
    "    fraud = pd.read_csv('/Users/emilyvincett/downloads/fraud_data.csv')\n",
    "    fraud\n",
    "    X = fraud.iloc[:,:-1]\n",
    "    y = fraud.iloc[:,-1]\n",
    "\n",
    "    X_train, X_test, y_train, y_test = train_test_split(X, y, random_state=0)\n",
    "\n",
    "    clf_score = LogisticRegression(max_iter=10000).fit(X_train, y_train).decision_function(X_test)\n",
    "    fpr_lr, tpr_lr, _ = roc_curve(y_test, clf_score)\n",
    "    roc_auc_lr = auc(fpr_lr, tpr_lr)\n",
    "    precision, recall, threshold = precision_recall_curve(y_test, clf_score)\n",
    "\n",
    "    p = np.argmin(np.abs(precision - 0.75))\n",
    "    recall_ = recall[p]\n",
    "\n",
    "    t = np.argmin(np.abs(fpr_lr - 0.16))\n",
    "    true_positive = tpr_lr[t]\n",
    "    true_positive\n",
    "\n",
    "    return recall_, true_positive\n",
    "\n",
    "answer_five()"
   ]
  },
  {
   "cell_type": "code",
   "execution_count": 19,
   "metadata": {},
   "outputs": [
    {
     "data": {
      "text/plain": [
       "array([[0.69558442, 0.77168831],\n",
       "       [0.80792208, 0.81155844],\n",
       "       [0.80428571, 0.81149351],\n",
       "       [0.80064935, 0.80064935],\n",
       "       [0.80064935, 0.80064935]])"
      ]
     },
     "execution_count": 19,
     "metadata": {},
     "output_type": "execute_result"
    }
   ],
   "source": [
    "def answer_six():\n",
    "    \n",
    "    from sklearn.linear_model import LogisticRegression \n",
    "    from sklearn.metrics import recall_score, precision_score,confusion_matrix, precision_recall_curve\n",
    "    from sklearn.svm import SVC \n",
    "    from sklearn.model_selection import train_test_split, GridSearchCV\n",
    "    from sklearn.metrics import roc_curve, auc \n",
    "    import matplotlib.pyplot as plt\n",
    "    import numpy as np \n",
    "    import pandas as pd\n",
    "\n",
    "    fraud = pd.read_csv('/Users/emilyvincett/downloads/fraud_data.csv')\n",
    "    fraud\n",
    "    X = fraud.iloc[:,:-1]\n",
    "    y = fraud.iloc[:,-1]\n",
    "\n",
    "    X_train, X_test, y_train, y_test = train_test_split(X, y, random_state=0)\n",
    "    grid_values = {'C': [0.01, 0.1, 1, 10, 100], 'penalty': ['l1', 'l2']}\n",
    "\n",
    "    clf = LogisticRegression(solver='liblinear', max_iter=10000)\n",
    "    grid_clf_rec = GridSearchCV(clf, param_grid = grid_values, scoring ='recall')\n",
    "    grid_clf_rec.fit(X_train, y_train)\n",
    "    return grid_clf_rec.cv_results_['mean_test_score'].reshape(5,2)\n",
    "\n",
    "answer_six()"
   ]
  },
  {
   "cell_type": "code",
   "execution_count": null,
   "metadata": {},
   "outputs": [],
   "source": []
  }
 ],
 "metadata": {
  "kernelspec": {
   "display_name": "Python 3",
   "language": "python",
   "name": "python3"
  },
  "language_info": {
   "codemirror_mode": {
    "name": "ipython",
    "version": 3
   },
   "file_extension": ".py",
   "mimetype": "text/x-python",
   "name": "python",
   "nbconvert_exporter": "python",
   "pygments_lexer": "ipython3",
   "version": "3.8.3"
  }
 },
 "nbformat": 4,
 "nbformat_minor": 4
}
