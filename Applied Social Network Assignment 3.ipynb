{
 "cells": [
  {
   "cell_type": "code",
   "execution_count": 40,
   "metadata": {},
   "outputs": [],
   "source": [
    "import networkx as nx \n",
    "import pandas as pd\n",
    "\n",
    "G1 = nx.read_gml('/Users/emilyvincett/Downloads/friendships.gml')"
   ]
  },
  {
   "cell_type": "code",
   "execution_count": 11,
   "metadata": {},
   "outputs": [
    {
     "data": {
      "text/plain": [
       "(0.0026501766784452294, 0.2654784240150094, 7.142902633244772e-05)"
      ]
     },
     "execution_count": 11,
     "metadata": {},
     "output_type": "execute_result"
    }
   ],
   "source": [
    "def answer_one():\n",
    "    dc = nx.degree_centrality(G1)[100]\n",
    "    cc = nx.closeness_centrality(G1)[100]\n",
    "    bc = nx.betweenness_centrality(G1, normalized=True, endpoints=False)[100]\n",
    "    return dc,cc,bc\n",
    "answer_one()"
   ]
  },
  {
   "cell_type": "code",
   "execution_count": 61,
   "metadata": {},
   "outputs": [
    {
     "data": {
      "text/plain": [
       "105"
      ]
     },
     "execution_count": 61,
     "metadata": {},
     "output_type": "execute_result"
    }
   ],
   "source": [
    "def answer_two():\n",
    "    dc = nx.degree_centrality(G1)\n",
    "    d_c = (sorted(dc.items(),key=lambda kv:kv[1],reverse=True)[:5])\n",
    "    return d_c[0][0]\n",
    "answer_two()"
   ]
  },
  {
   "cell_type": "code",
   "execution_count": 64,
   "metadata": {},
   "outputs": [
    {
     "data": {
      "text/plain": [
       "23"
      ]
     },
     "execution_count": 64,
     "metadata": {},
     "output_type": "execute_result"
    }
   ],
   "source": [
    "def answer_three():\n",
    "    cc = nx.closeness_centrality(G1)\n",
    "    c_c = sorted(cc.items(), key=lambda kv:kv[1],reverse=True)[:5]\n",
    "    return c_c[0][0]\n",
    "answer_three()  "
   ]
  },
  {
   "cell_type": "code",
   "execution_count": 68,
   "metadata": {},
   "outputs": [
    {
     "data": {
      "text/plain": [
       "333"
      ]
     },
     "execution_count": 68,
     "metadata": {},
     "output_type": "execute_result"
    }
   ],
   "source": [
    "def answer_four():\n",
    "    bc = nx.betweenness_centrality(G1)\n",
    "    b_c = sorted(bc.items(), key=lambda kv:kv[1],reverse=True)[:5]\n",
    "    return b_c[0][0]\n",
    "answer_four()"
   ]
  },
  {
   "cell_type": "code",
   "execution_count": 82,
   "metadata": {},
   "outputs": [
    {
     "data": {
      "text/plain": [
       "0.004636694781649094"
      ]
     },
     "execution_count": 82,
     "metadata": {},
     "output_type": "execute_result"
    }
   ],
   "source": [
    "def answer_five():\n",
    "    G2 = nx.read_gml('/Users/emilyvincett/Downloads/blogs.gml')\n",
    "    return nx.pagerank(G2,alpha=0.85)['realclearpolitics.com']\n",
    "answer_five()"
   ]
  },
  {
   "cell_type": "code",
   "execution_count": 118,
   "metadata": {},
   "outputs": [
    {
     "data": {
      "text/plain": [
       "['dailykos.com',\n",
       " 'atrios.blogspot.com',\n",
       " 'instapundit.com',\n",
       " 'blogsforbush.com',\n",
       " 'talkingpointsmemo.com']"
      ]
     },
     "execution_count": 118,
     "metadata": {},
     "output_type": "execute_result"
    }
   ],
   "source": [
    "def answer_six():\n",
    "    G2 = nx.read_gml('/Users/emilyvincett/Downloads/blogs.gml')\n",
    "    pgrk = nx.pagerank(G2,alpha=0.85)\n",
    "    _ = sorted(pgrk.items(),key=lambda kv:kv[1],reverse=True)[:5]\n",
    "    __ = []\n",
    "    for x in _:\n",
    "        __.append(x[0])\n",
    "    return __\n",
    "answer_six()"
   ]
  },
  {
   "cell_type": "code",
   "execution_count": 121,
   "metadata": {},
   "outputs": [
    {
     "data": {
      "text/plain": [
       "(0.0003243556140916672, 0.003918957645699851)"
      ]
     },
     "execution_count": 121,
     "metadata": {},
     "output_type": "execute_result"
    }
   ],
   "source": [
    "def answer_seven():\n",
    "    G2 = nx.read_gml('/Users/emilyvincett/Downloads/blogs.gml')\n",
    "    k,v  = nx.hits(G2)\n",
    "    return k['realclearpolitics.com'],v['realclearpolitics.com']\n",
    "answer_seven()"
   ]
  },
  {
   "cell_type": "code",
   "execution_count": 151,
   "metadata": {},
   "outputs": [
    {
     "data": {
      "text/plain": [
       "['politicalstrategy.org',\n",
       " 'madkane.com/notable.html',\n",
       " 'liberaloasis.com',\n",
       " 'stagefour.typepad.com/commonprejudice',\n",
       " 'bodyandsoul.typepad.com']"
      ]
     },
     "execution_count": 151,
     "metadata": {},
     "output_type": "execute_result"
    }
   ],
   "source": [
    "def answer_eight():\n",
    "    G2 = nx.read_gml('/Users/emilyvincett/Downloads/blogs.gml')\n",
    "    hub,auth = nx.hits(G2)\n",
    "    _ = sorted(hub.items(),key=lambda kv:kv[1],reverse=True)[:5]\n",
    "    __ = []\n",
    "    for x in _:\n",
    "        __.append(x[0])\n",
    "    return __\n",
    "answer_eight()"
   ]
  },
  {
   "cell_type": "code",
   "execution_count": 154,
   "metadata": {},
   "outputs": [
    {
     "data": {
      "text/plain": [
       "['dailykos.com',\n",
       " 'talkingpointsmemo.com',\n",
       " 'atrios.blogspot.com',\n",
       " 'washingtonmonthly.com',\n",
       " 'talkleft.com']"
      ]
     },
     "execution_count": 154,
     "metadata": {},
     "output_type": "execute_result"
    }
   ],
   "source": [
    "def answer_nine():\n",
    "    G2 = nx.read_gml('/Users/emilyvincett/Downloads/blogs.gml')\n",
    "    hub,auth = nx.hits(G2)\n",
    "    _ = sorted(auth.items(),key=lambda kv:kv[1],reverse=True)[:5]\n",
    "    __ = []\n",
    "    for x in _: \n",
    "        __.append(x[0])\n",
    "    return __\n",
    "answer_nine()"
   ]
  },
  {
   "cell_type": "code",
   "execution_count": null,
   "metadata": {},
   "outputs": [],
   "source": []
  }
 ],
 "metadata": {
  "kernelspec": {
   "display_name": "Python 3",
   "language": "python",
   "name": "python3"
  },
  "language_info": {
   "codemirror_mode": {
    "name": "ipython",
    "version": 3
   },
   "file_extension": ".py",
   "mimetype": "text/x-python",
   "name": "python",
   "nbconvert_exporter": "python",
   "pygments_lexer": "ipython3",
   "version": "3.8.3"
  }
 },
 "nbformat": 4,
 "nbformat_minor": 4
}
