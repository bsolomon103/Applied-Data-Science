{
 "cells": [
  {
   "cell_type": "code",
   "execution_count": 160,
   "metadata": {},
   "outputs": [
    {
     "name": "stdout",
     "output_type": "stream",
     "text": [
      "Test Best AUC: 0.58\n",
      "Test Best Parameter: {'C': 0.25, 'max_iter': 500, 'solver': 'lbfgs'}\n",
      "Test Best Score: 0.5892264832884793\n"
     ]
    },
    {
     "data": {
      "text/plain": [
       "ticket_id\n",
       "284932    0.038182\n",
       "285362    0.001230\n",
       "285361    0.032622\n",
       "285338    0.061936\n",
       "285346    0.087739\n",
       "            ...   \n",
       "376496    0.001048\n",
       "376497    0.001048\n",
       "376499    0.028265\n",
       "376500    0.028238\n",
       "369851    0.050282\n",
       "Length: 61001, dtype: float64"
      ]
     },
     "execution_count": 160,
     "metadata": {},
     "output_type": "execute_result"
    }
   ],
   "source": [
    "import pandas as pd\n",
    "import numpy as np\n",
    "from sklearn.model_selection import train_test_split, GridSearchCV\n",
    "from sklearn.metrics import roc_auc_score \n",
    "from sklearn.linear_model import LogisticRegression\n",
    "from sklearn.preprocessing import OneHotEncoder\n",
    "\n",
    "train = pd.read_csv('/Users/emilyvincett/downloads/train.csv', encoding = 'ISO-8859-1', low_memory = False)\n",
    "train.head(2)  \n",
    "features = ['ticket_id','violation_street_number', 'clean_up_cost',\n",
    "            'judgment_amount','compliance']\n",
    "train = train[features]\n",
    "train = train.dropna(subset=['compliance'])\n",
    "\n",
    "\n",
    "X = train.iloc[:,:-1]\n",
    "y = train.iloc[:,-1]\n",
    "\n",
    "X_train, X_test, y_train, y_test = train_test_split(X, y, random_state=0)\n",
    "log_clf = LogisticRegression()\n",
    "\n",
    "grid_values = {'C': [0.25, 0.5],\n",
    "              'solver': ['lbfgs', 'liblinear'],\n",
    "              'max_iter': [500]}\n",
    "\n",
    "grid_log_clf_auc = GridSearchCV(log_clf, param_grid=grid_values, scoring='roc_auc', n_jobs = -1)\n",
    "grid_log_clf_auc.fit(X_train, y_train)\n",
    "log_decision_function_auc = grid_log_clf_auc.decision_function(X_test)\n",
    "\n",
    "print ('Test Best AUC: {:.2f}'.format(roc_auc_score(y_test,log_decision_function_auc)))\n",
    "print ('Test Best Parameter:',(grid_log_clf_auc.best_params_))\n",
    "print ('Test Best Score:',(grid_log_clf_auc.best_score_))\n",
    "\n",
    "probs = grid_log_clf_auc.predict_proba(X_test)[:,1]\n",
    "probs_test = grid_log_clf_auc.predict_proba(test)[:,1]\n",
    "series_probs = pd.Series(probs.reshape(len(X_test)), X_test.ticket_id)\n",
    "series_probs_test = pd.Series(probs_test.reshape(len(test)),test.ticket_id)\n",
    "series_probs_test"
   ]
  },
  {
   "cell_type": "code",
   "execution_count": 157,
   "metadata": {},
   "outputs": [
    {
     "data": {
      "text/html": [
       "<div>\n",
       "<style scoped>\n",
       "    .dataframe tbody tr th:only-of-type {\n",
       "        vertical-align: middle;\n",
       "    }\n",
       "\n",
       "    .dataframe tbody tr th {\n",
       "        vertical-align: top;\n",
       "    }\n",
       "\n",
       "    .dataframe thead th {\n",
       "        text-align: right;\n",
       "    }\n",
       "</style>\n",
       "<table border=\"1\" class=\"dataframe\">\n",
       "  <thead>\n",
       "    <tr style=\"text-align: right;\">\n",
       "      <th></th>\n",
       "      <th>ticket_id</th>\n",
       "      <th>violation_street_number</th>\n",
       "      <th>clean_up_cost</th>\n",
       "      <th>judgment_amount</th>\n",
       "    </tr>\n",
       "  </thead>\n",
       "  <tbody>\n",
       "    <tr>\n",
       "      <th>0</th>\n",
       "      <td>284932</td>\n",
       "      <td>10041.0</td>\n",
       "      <td>0.0</td>\n",
       "      <td>250.0</td>\n",
       "    </tr>\n",
       "    <tr>\n",
       "      <th>1</th>\n",
       "      <td>285362</td>\n",
       "      <td>18520.0</td>\n",
       "      <td>0.0</td>\n",
       "      <td>1130.0</td>\n",
       "    </tr>\n",
       "    <tr>\n",
       "      <th>2</th>\n",
       "      <td>285361</td>\n",
       "      <td>18520.0</td>\n",
       "      <td>0.0</td>\n",
       "      <td>140.0</td>\n",
       "    </tr>\n",
       "    <tr>\n",
       "      <th>3</th>\n",
       "      <td>285338</td>\n",
       "      <td>1835.0</td>\n",
       "      <td>0.0</td>\n",
       "      <td>250.0</td>\n",
       "    </tr>\n",
       "    <tr>\n",
       "      <th>4</th>\n",
       "      <td>285346</td>\n",
       "      <td>1700.0</td>\n",
       "      <td>0.0</td>\n",
       "      <td>140.0</td>\n",
       "    </tr>\n",
       "    <tr>\n",
       "      <th>...</th>\n",
       "      <td>...</td>\n",
       "      <td>...</td>\n",
       "      <td>...</td>\n",
       "      <td>...</td>\n",
       "    </tr>\n",
       "    <tr>\n",
       "      <th>60996</th>\n",
       "      <td>376496</td>\n",
       "      <td>12032.0</td>\n",
       "      <td>0.0</td>\n",
       "      <td>1130.0</td>\n",
       "    </tr>\n",
       "    <tr>\n",
       "      <th>60997</th>\n",
       "      <td>376497</td>\n",
       "      <td>12032.0</td>\n",
       "      <td>0.0</td>\n",
       "      <td>1130.0</td>\n",
       "    </tr>\n",
       "    <tr>\n",
       "      <th>60998</th>\n",
       "      <td>376499</td>\n",
       "      <td>11832.0</td>\n",
       "      <td>0.0</td>\n",
       "      <td>140.0</td>\n",
       "    </tr>\n",
       "    <tr>\n",
       "      <th>60999</th>\n",
       "      <td>376500</td>\n",
       "      <td>11848.0</td>\n",
       "      <td>0.0</td>\n",
       "      <td>140.0</td>\n",
       "    </tr>\n",
       "    <tr>\n",
       "      <th>61000</th>\n",
       "      <td>369851</td>\n",
       "      <td>6100.0</td>\n",
       "      <td>0.0</td>\n",
       "      <td>80.0</td>\n",
       "    </tr>\n",
       "  </tbody>\n",
       "</table>\n",
       "<p>61001 rows × 4 columns</p>\n",
       "</div>"
      ],
      "text/plain": [
       "       ticket_id  violation_street_number  clean_up_cost  judgment_amount\n",
       "0         284932                  10041.0            0.0            250.0\n",
       "1         285362                  18520.0            0.0           1130.0\n",
       "2         285361                  18520.0            0.0            140.0\n",
       "3         285338                   1835.0            0.0            250.0\n",
       "4         285346                   1700.0            0.0            140.0\n",
       "...          ...                      ...            ...              ...\n",
       "60996     376496                  12032.0            0.0           1130.0\n",
       "60997     376497                  12032.0            0.0           1130.0\n",
       "60998     376499                  11832.0            0.0            140.0\n",
       "60999     376500                  11848.0            0.0            140.0\n",
       "61000     369851                   6100.0            0.0             80.0\n",
       "\n",
       "[61001 rows x 4 columns]"
      ]
     },
     "execution_count": 157,
     "metadata": {},
     "output_type": "execute_result"
    }
   ],
   "source": [
    "test = pd.read_csv('/Users/emilyvincett/downloads/test.csv', encoding = 'ISO-8859-1', low_memory = False)\n",
    "test_features = ['ticket_id','violation_street_number','clean_up_cost',\n",
    "                'judgment_amount']\n",
    "\n",
    "test = test[test_features]\n",
    "test\n",
    "\n"
   ]
  },
  {
   "cell_type": "code",
   "execution_count": 63,
   "metadata": {},
   "outputs": [
    {
     "data": {
      "text/plain": [
       "array(['Department of Public Works',\n",
       "       'Buildings, Safety Engineering & Env Department',\n",
       "       'Detroit Police Department'], dtype=object)"
      ]
     },
     "execution_count": 63,
     "metadata": {},
     "output_type": "execute_result"
    }
   ],
   "source": [
    "Agency Names \n",
    "\n",
    "'Buildings, Safety Engineering & Env Department'\n",
    "'Health Department'\n",
    "'Department of Public Works'\n",
    "'Detroit Police Department'\n",
    "'Neighborhood City Halls'"
   ]
  },
  {
   "cell_type": "code",
   "execution_count": null,
   "metadata": {},
   "outputs": [],
   "source": []
  }
 ],
 "metadata": {
  "kernelspec": {
   "display_name": "Python 3",
   "language": "python",
   "name": "python3"
  },
  "language_info": {
   "codemirror_mode": {
    "name": "ipython",
    "version": 3
   },
   "file_extension": ".py",
   "mimetype": "text/x-python",
   "name": "python",
   "nbconvert_exporter": "python",
   "pygments_lexer": "ipython3",
   "version": "3.8.3"
  }
 },
 "nbformat": 4,
 "nbformat_minor": 4
}
