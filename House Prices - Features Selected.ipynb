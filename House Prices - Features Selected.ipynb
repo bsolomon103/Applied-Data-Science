{
 "cells": [
  {
   "cell_type": "code",
   "execution_count": 1,
   "metadata": {},
   "outputs": [
    {
     "data": {
      "text/plain": [
       "((1460, 255), (1459, 255))"
      ]
     },
     "execution_count": 1,
     "metadata": {},
     "output_type": "execute_result"
    }
   ],
   "source": [
    "import numpy as np\n",
    "np.seterr(divide='ignore', invalid='ignore')\n",
    "import pandas as pd \n",
    "\n",
    "train = pd.read_csv('/Users/emilyvincett/downloads/home-data-for-ml-course/train.csv')\n",
    "test = pd.read_csv('/Users/emilyvincett/downloads/home-data-for-ml-course/test.csv')\n",
    "X = train.iloc[:,:-1]\n",
    "y = train.iloc[:,-1]\n",
    "\n",
    "#X.info()\n",
    "features_to_drop = ['Alley','FireplaceQu','PoolQC','Fence','MiscFeature']\n",
    "X = X.drop(features_to_drop,axis=1)\n",
    "test = test.drop(features_to_drop,axis=1)\n",
    "X_categorical_col = pd.get_dummies(X.select_dtypes(include='object'))\n",
    "test_categorical_col = pd.get_dummies(test.select_dtypes(include='object'))\n",
    "X_categorical_col = X_categorical_col[test_categorical_col.columns]\n",
    "xcc = X_categorical_col.reset_index()\n",
    "tcc = test_categorical_col.reset_index()\n",
    "X = X.reset_index()\n",
    "X = X.merge(xcc, left_on='index',right_on='index').select_dtypes(include='number')\n",
    "test = test.reset_index()\n",
    "test = test.merge(tcc, left_on='index',right_on='index').select_dtypes(include='number')\n",
    "X = X.drop('index',axis=1)\n",
    "test = test.drop('index',axis=1)\n",
    "X = X.fillna(method='pad')\n",
    "test = test.fillna(method='pad')\n",
    "X.shape,test.shape"
   ]
  },
  {
   "cell_type": "code",
   "execution_count": 2,
   "metadata": {},
   "outputs": [
    {
     "name": "stdout",
     "output_type": "stream",
     "text": [
      "Model 3 Best Score -899646597.890263 using {'max_depth': 50, 'max_features': 'sqrt', 'n_estimators': 1000}\n",
      "Model Best MSE score 916770233.913242\n"
     ]
    }
   ],
   "source": [
    "from sklearn.model_selection import train_test_split,GridSearchCV\n",
    "from sklearn.feature_selection import SelectKBest, f_regression\n",
    "from sklearn.ensemble import RandomForestRegressor\n",
    "from sklearn.metrics import mean_squared_error\n",
    "\n",
    "X_train, X_test, y_train, y_test = train_test_split(X,y,test_size=0.33,random_state=0)\n",
    "\n",
    "best_features = SelectKBest(f_regression,k='all')\n",
    "picks = best_features.fit(X_train,y_train)\n",
    "picks_df = pd.DataFrame(picks.scores_,index=X.columns)\n",
    "features = picks_df.sort_values(0,ascending=False).dropna()[:125].index\n",
    "features_2 = picks_df.sort_values(0,ascending=False).dropna()[:60].index\n",
    "X_tr_sel = X_train[features]\n",
    "X_te_sel = X_test[features]\n",
    "X_tr_sel_2 = X_train[features_2]\n",
    "X_te_sel_2 = X_test[features_2]\n",
    "\n",
    "#Zip this back for submission \n",
    "t_id = test['Id']\n",
    "te_sel = test[features]\n",
    "\n",
    "rf3 = RandomForestRegressor(random_state=0)\n",
    "\n",
    "grid_values = {'n_estimators':[100,1000],\n",
    "               'max_depth':[5,20,50],\n",
    "               'max_features':['auto','sqrt','log2']\n",
    "              }\n",
    "grid_rf3_mse = GridSearchCV(rf3,param_grid=grid_values,scoring='neg_mean_squared_error',n_jobs=-1,cv=5)\n",
    "results_3 = grid_rf3_mse.fit(X_tr_sel_2,y_train)\n",
    "predictions_3 = grid_rf3_mse.predict(X_te_sel_2)\n",
    "\n",
    "print('Model 3 Best Score %f using %s' %(results_3.best_score_, results_3.best_params_))\n",
    "print ('Model Best MSE score %f' %(mean_squared_error(y_test, predictions_3)))\n",
    "\n",
    "# My analyses suggests that as the number of features increases the greater the number of estimators \n",
    "# and lower the max_depth\n",
    "# As number of features decrease number of estimators reduce but up to a point after \n",
    "# which they start to increase again. "
   ]
  },
  {
   "cell_type": "code",
   "execution_count": 3,
   "metadata": {},
   "outputs": [
    {
     "name": "stdout",
     "output_type": "stream",
     "text": [
      "Saving file House_price_predictions_2\n"
     ]
    }
   ],
   "source": [
    "# Best performing model with 60 features - use this as a baseline for next models. \n",
    "\n",
    "te_sel_2 = test[features_2]\n",
    "test_predictions_2 = grid_rf3_mse.predict(te_sel_2)\n",
    "test_predictions_2 = list(test_predictions_2)\n",
    "preds_2 = pd.DataFrame(list(zip(t_id,test_predictions_2)))\n",
    "preds_2 = preds_2.rename({0:'Id',1:'SalePrice'},axis=1)\n",
    "filename = 'House_price_predictions_2'\n",
    "preds_2.to_csv(filename,index=False)\n",
    "print('Saving file '+ filename)"
   ]
  },
  {
   "cell_type": "code",
   "execution_count": 4,
   "metadata": {},
   "outputs": [
    {
     "name": "stdout",
     "output_type": "stream",
     "text": [
      "Models Best Score -940106169.626521 using {'criterion': 'mae', 'learning_rate': 0.1, 'n_estimators': 150}\n",
      "Models MSE Score 829184772.451697\n",
      "Saving fileHouse Price Gradient.csv\n"
     ]
    }
   ],
   "source": [
    "#### Gradient Boosting Model - Doesn't perform as well as the random forest with 60 features. \n",
    "\n",
    "from sklearn.ensemble import GradientBoostingRegressor\n",
    "from sklearn.metrics import mean_squared_error\n",
    "\n",
    "gb = GradientBoostingRegressor(random_state=0)\n",
    "grid_values = {'learning_rate':[0.01,0.1],\n",
    "               'n_estimators':[150,1000],\n",
    "               'criterion':['mae']}\n",
    "\n",
    "grid_gb_mse = GridSearchCV(gb, param_grid=grid_values,scoring='neg_mean_squared_error', n_jobs=-1,cv=5)\n",
    "results  = grid_gb_mse.fit(X_tr_sel_2,y_train)\n",
    "predictions = grid_gb_mse.predict(X_te_sel_2)\n",
    "\n",
    "print ('Models Best Score %f using %s' %(results.best_score_, results.best_params_))\n",
    "print('Models MSE Score %f' %(mean_squared_error(y_test,predictions)))\n",
    "\n",
    "test_predictions = grid_gb_mse.predict(te_sel_2)\n",
    "test_predictions = list(test_predictions)\n",
    "\n",
    "pred_gb = pd.DataFrame(list(zip(t_id,test_predictions)))\n",
    "pred_gb = pred_gb.rename({0:'Id', 1:'SalePrice'},axis=1)\n",
    "pred_gb\n",
    "\n",
    "filename = 'House Price Gradient.csv'\n",
    "pred_gb.to_csv(filename, index=False)\n",
    "print('Saving file' + filename)"
   ]
  },
  {
   "cell_type": "code",
   "execution_count": 42,
   "metadata": {},
   "outputs": [
    {
     "name": "stdout",
     "output_type": "stream",
     "text": [
      "Model Best Score -1208335486.922832 using {'max_depth': 20, 'max_features': 'auto', 'n_estimators': 3000}\n",
      "Model Best Mse score 1380909396.223803\n"
     ]
    },
    {
     "data": {
      "image/png": "[encoded data removed]",
      "text/plain": [
       "<Figure size 432x288 with 1 Axes>"
      ]
     },
     "metadata": {
      "needs_background": "light"
     },
     "output_type": "display_data"
    }
   ],
   "source": [
    "# PCA \n",
    "\n",
    "from scipy.signal import savgol_filter\n",
    "from sklearn.decomposition import PCA\n",
    "from sklearn.preprocessing import StandardScaler\n",
    "from sklearn.metrics import r2_score\n",
    "import matplotlib.pyplot as plt \n",
    "\n",
    "# Define the PCA object \n",
    "pca = PCA().fit(X)\n",
    "plt.plot(np.cumsum(pca.explained_variance_ratio_))\n",
    "\n",
    "pca = PCA(n_components=30)\n",
    "\n",
    "pca.fit(X)\n",
    "X_pca = pca.transform(X)\n",
    "\n",
    "X_train_pca, X_test_pca, y_train, y_test = train_test_split(X_pca, y, random_state=0)\n",
    "\n",
    "rf_pca = RandomForestRegressor(random_state=0)\n",
    "\n",
    "grid_values = {'n_estimators':[100,3000],\n",
    "               'max_depth':[5,20,50],\n",
    "               'max_features':['auto','sqrt','log2']\n",
    "              }\n",
    "    \n",
    "\n",
    "grid_rf_pca_mse = GridSearchCV(rf_pca, param_grid=grid_values, scoring='neg_mean_squared_error', n_jobs=-1, cv=5)\n",
    "result_pca = grid_rf_pca_mse.fit(X_train_pca,y_train)\n",
    "predictions = grid_rf_pca_mse.predict(X_test_pca)\n",
    "\n",
    "print('Model Best Score %f using %s'%(result_pca.best_score_,result_pca.best_params_))\n",
    "print('Model Best Mse score %f' %(mean_squared_error(y_test, predictions)))"
   ]
  },
  {
   "cell_type": "code",
   "execution_count": 45,
   "metadata": {},
   "outputs": [
    {
     "name": "stdout",
     "output_type": "stream",
     "text": [
      "Model Best Score -1183918444.783442 using {'learning_rate': 0.1, 'n_estimators': 150}\n",
      "Model Best Mse score 1286759652.900250\n"
     ]
    }
   ],
   "source": [
    "gb_pca = GradientBoostingRegressor(random_state=0)\n",
    "\n",
    "grid_values = {'learning_rate':[0.001, 0.01,0.1],\n",
    "               'n_estimators':[150,1000, 2000]}\n",
    "\n",
    "grid_gb_pca_mse = GridSearchCV(gb_pca, param_grid=grid_values, scoring='neg_mean_squared_error', n_jobs=-1, cv=5)\n",
    "results = grid_gb_pca_mse.fit(X_train_pca,y_train)\n",
    "predictions = grid_gb_pca_mse.predict(X_test_pca)\n",
    "\n",
    "print('Model Best Score %f using %s'%(results.best_score_,results.best_params_))\n",
    "print('Model Best Mse score %f' %(mean_squared_error(y_test, predictions)))"
   ]
  },
  {
   "cell_type": "code",
   "execution_count": null,
   "metadata": {},
   "outputs": [],
   "source": []
  }
 ],
 "metadata": {
  "kernelspec": {
   "display_name": "Python 3",
   "language": "python",
   "name": "python3"
  },
  "language_info": {
   "codemirror_mode": {
    "name": "ipython",
    "version": 3
   },
   "file_extension": ".py",
   "mimetype": "text/x-python",
   "name": "python",
   "nbconvert_exporter": "python",
   "pygments_lexer": "ipython3",
   "version": "3.8.3"
  }
 },
 "nbformat": 4,
 "nbformat_minor": 4
}
