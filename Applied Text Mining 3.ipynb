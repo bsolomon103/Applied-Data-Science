{
 "cells": [
  {
   "cell_type": "code",
   "execution_count": 1,
   "metadata": {},
   "outputs": [],
   "source": [
    "import numpy as np \n",
    "import pandas as pd \n",
    "\n",
    "spam_data = pd.read_csv('/Users/emilyvincett/Downloads/spam.csv')\n",
    "\n",
    "#Codes instances of spam as 1 and not spam as 0\n",
    "spam_data['target'] = np.where(spam_data['target']=='spam',1,0)\n",
    "\n",
    "\n",
    "from sklearn.model_selection import train_test_split \n",
    "X_train, X_test,y_train,y_test = train_test_split(spam_data['text'],\n",
    "                                                 spam_data['target'],\n",
    "                                                 random_state=0)\n"
   ]
  },
  {
   "cell_type": "code",
   "execution_count": 2,
   "metadata": {},
   "outputs": [
    {
     "data": {
      "text/plain": [
       "13.406317300789663"
      ]
     },
     "execution_count": 2,
     "metadata": {},
     "output_type": "execute_result"
    }
   ],
   "source": [
    "def answer_one():\n",
    "    \n",
    "    spam = spam_data[spam_data['target']==1]\n",
    "    return len(spam)/len(spam_data['target'])*100\n",
    "answer_one()"
   ]
  },
  {
   "cell_type": "code",
   "execution_count": 3,
   "metadata": {},
   "outputs": [
    {
     "data": {
      "text/plain": [
       "'com1win150ppmx3age16subscription'"
      ]
     },
     "execution_count": 3,
     "metadata": {},
     "output_type": "execute_result"
    }
   ],
   "source": [
    "def answer_two():\n",
    "    \n",
    "    from sklearn.feature_extraction.text import CountVectorizer\n",
    "\n",
    "    Name = []\n",
    "    Length = []\n",
    "    vect = CountVectorizer().fit(X_train)\n",
    "    features = vect.get_feature_names()\n",
    "\n",
    "    for name in features: \n",
    "        length = len(name)\n",
    "        Length.append(length)\n",
    "        Name.append(name)\n",
    "    combi = list(zip(Name,Length))\n",
    "    return sorted(combi,key=lambda tup:(-tup[1],-tup[1]))[0][0]\n",
    "\n",
    "answer_two()"
   ]
  },
  {
   "cell_type": "code",
   "execution_count": 4,
   "metadata": {},
   "outputs": [
    {
     "name": "stdout",
     "output_type": "stream",
     "text": [
      "Model AUC Score is 0.972\n"
     ]
    }
   ],
   "source": [
    "def answer_three():\n",
    "    \n",
    "    from sklearn.naive_bayes import MultinomialNB\n",
    "    from sklearn.metrics import roc_auc_score\n",
    "    from sklearn.feature_extraction.text import CountVectorizer\n",
    "\n",
    "    vect = CountVectorizer().fit(X_train)\n",
    "    X_train_vectorized = vect.transform(X_train)\n",
    "    mnb = MultinomialNB(alpha=0.1)\n",
    "    mnb.fit(X_train_vectorized, y_train)\n",
    "    X_test_vectorized = vect.transform(X_test)\n",
    "    predictions = mnb.predict(X_test_vectorized)\n",
    "\n",
    "    return print('Model AUC Score is %.3f' %(roc_auc_score(y_test,predictions)))\n",
    "answer_three()"
   ]
  },
  {
   "cell_type": "code",
   "execution_count": 5,
   "metadata": {},
   "outputs": [
    {
     "data": {
      "text/plain": [
       "(sympathetic     0.074475\n",
       " healer          0.074475\n",
       " aaniye          0.074475\n",
       " dependable      0.074475\n",
       " companion       0.074475\n",
       " listener        0.074475\n",
       " athletic        0.074475\n",
       " exterminator    0.074475\n",
       " psychiatrist    0.074475\n",
       " pest            0.074475\n",
       " determined      0.074475\n",
       " chef            0.074475\n",
       " courageous      0.074475\n",
       " stylist         0.074475\n",
       " psychologist    0.074475\n",
       " organizer       0.074475\n",
       " pudunga         0.074475\n",
       " venaam          0.074475\n",
       " diwali          0.091250\n",
       " mornings        0.091250\n",
       " dtype: float64,\n",
       " 146tf150p    1.000000\n",
       " havent       1.000000\n",
       " home         1.000000\n",
       " okie         1.000000\n",
       " thanx        1.000000\n",
       " er           1.000000\n",
       " anything     1.000000\n",
       " lei          1.000000\n",
       " nite         1.000000\n",
       " yup          1.000000\n",
       " thank        1.000000\n",
       " ok           1.000000\n",
       " where        1.000000\n",
       " beerage      1.000000\n",
       " anytime      1.000000\n",
       " too          1.000000\n",
       " done         1.000000\n",
       " 645          1.000000\n",
       " tick         0.980166\n",
       " blank        0.932702\n",
       " dtype: float64)"
      ]
     },
     "execution_count": 5,
     "metadata": {},
     "output_type": "execute_result"
    }
   ],
   "source": [
    "def answer_four():\n",
    "    \n",
    "    from sklearn.feature_extraction.text import TfidfVectorizer\n",
    "\n",
    "    #Creates an instance of the TfidfVectorizer and stores it in a variable named vectorizer\n",
    "    vectorizer = TfidfVectorizer()\n",
    "\n",
    "    #Transforms the training set based on the vectorizer applied into numbers.\n",
    "    #Stores into a matrix like format\n",
    "    tfidf = vectorizer.fit_transform(X_train)\n",
    "    names = vectorizer.get_feature_names()\n",
    "    maximum_tfidf = tfidf.max(0).toarray().tolist()\n",
    "\n",
    "    #Builds a dataframe with columns as feature names and the rows as the number of documents being considered\n",
    "    matrix_df = pd.DataFrame(tfidf.toarray(),columns=names)\n",
    "    smallest = matrix_df.max(axis=0).sort_values(ascending=True)[:20]\n",
    "    largest = matrix_df.max(axis=0).sort_values(ascending=False)[:20]\n",
    "    return (smallest,largest)\n",
    "\n",
    "answer_four()"
   ]
  },
  {
   "cell_type": "code",
   "execution_count": 6,
   "metadata": {},
   "outputs": [
    {
     "data": {
      "text/plain": [
       "array(['146tf150p', 'havent', 'home', 'okie', 'thanx', 'er', 'anything',\n",
       "       'lei', 'nite', 'yup', 'thank', 'ok', 'where', 'beerage', 'anytime',\n",
       "       'too', 'done', '645', 'tick', 'blank'], dtype='<U32')"
      ]
     },
     "execution_count": 6,
     "metadata": {},
     "output_type": "execute_result"
    }
   ],
   "source": [
    "#Alternative way of collective the smallest and largest max tfidf\n",
    "\n",
    "from sklearn.feature_extraction.text import TfidfVectorizer\n",
    "\n",
    "\n",
    "vect = TfidfVectorizer().fit(X_train)\n",
    "\n",
    "feature_names = np.array(vect.get_feature_names())\n",
    "\n",
    "X_train_vectorized = vect.transform(X_train)\n",
    "\n",
    "sorted_tfidf_index = X_train_vectorized.max(0).toarray()[0].argsort()\n",
    "feature_names[sorted_tfidf_index][:-21:-1]\n"
   ]
  },
  {
   "cell_type": "code",
   "execution_count": 7,
   "metadata": {},
   "outputs": [
    {
     "data": {
      "text/plain": [
       "0.9416243654822335"
      ]
     },
     "execution_count": 7,
     "metadata": {},
     "output_type": "execute_result"
    }
   ],
   "source": [
    "def answer_five():\n",
    "    from sklearn.feature_extraction.text import TfidfVectorizer\n",
    "    from sklearn.naive_bayes import MultinomialNB\n",
    "    from sklearn.metrics import roc_auc_score\n",
    "\n",
    "    vect = TfidfVectorizer(min_df=3).fit(X_train)\n",
    "    X_train_vectorized = vect.transform(X_train)\n",
    "\n",
    "    mnb = MultinomialNB(alpha=0.1)\n",
    "    mnb.fit(X_train_vectorized,y_train)\n",
    "    predictions = mnb.predict(vect.transform(X_test))\n",
    "\n",
    "    return roc_auc_score(y_test,predictions)\n",
    "answer_five()"
   ]
  },
  {
   "cell_type": "code",
   "execution_count": 8,
   "metadata": {},
   "outputs": [
    {
     "data": {
      "text/plain": [
       "(71.02362694300518, 138.8661311914324)"
      ]
     },
     "execution_count": 8,
     "metadata": {},
     "output_type": "execute_result"
    }
   ],
   "source": [
    "def answer_six():\n",
    "    spam_data_3 = spam_data.copy()\n",
    "    spam_data_3['length'] = spam_data_3['text'].astype(str).apply(len)\n",
    "    no_spam = spam_data_3[spam_data_3['target']==0].length.mean()\n",
    "\n",
    "    is_spam = spam_data_3[spam_data_3['target']==1].length.mean()\n",
    "    return (no_spam,is_spam)\n",
    "answer_six()"
   ]
  },
  {
   "cell_type": "code",
   "execution_count": 9,
   "metadata": {},
   "outputs": [],
   "source": [
    "def add_feature(X, feature_to_add):\n",
    "    \"\"\"\n",
    "    Returns sparse feature matrix with added feature.\n",
    "    feature_to_add can also be a list of features.\n",
    "    \"\"\"\n",
    "    from scipy.sparse import csr_matrix, hstack\n",
    "    return hstack([X, csr_matrix(feature_to_add).T], 'csr')"
   ]
  },
  {
   "cell_type": "code",
   "execution_count": 10,
   "metadata": {},
   "outputs": [
    {
     "data": {
      "text/plain": [
       "0.9661689557407943"
      ]
     },
     "execution_count": 10,
     "metadata": {},
     "output_type": "execute_result"
    }
   ],
   "source": [
    "def answer_seven():\n",
    "    from sklearn.feature_extraction.text import TfidfVectorizer\n",
    "    from sklearn.svm import SVC \n",
    "    from sklearn.metrics import roc_auc_score\n",
    "\n",
    "    vect = TfidfVectorizer(min_df=5).fit(X_train)\n",
    "    X_train_vectorized = vect.transform(X_train)\n",
    "    X_test_vectorized = vect.transform(X_test)\n",
    "\n",
    "    len_x_train = X_train.apply(len)\n",
    "    len_x_test = X_test.apply(len)\n",
    "\n",
    "    X_train_add = add_feature(X_train_vectorized,len_x_train)\n",
    "    X_test_add = add_feature(X_test_vectorized,len_x_test)\n",
    "\n",
    "    clf = SVC(C=10000)\n",
    "    clf.fit(X_train_add,y_train)\n",
    "    predictions = clf.predict(X_test_add)\n",
    "\n",
    "    return roc_auc_score(y_test,predictions)\n",
    "answer_seven()"
   ]
  },
  {
   "cell_type": "code",
   "execution_count": 11,
   "metadata": {},
   "outputs": [
    {
     "data": {
      "text/plain": [
       "(71.02362694300518, 138.8661311914324)"
      ]
     },
     "execution_count": 11,
     "metadata": {},
     "output_type": "execute_result"
    }
   ],
   "source": [
    "def answer_six_alternative():\n",
    "    \n",
    "    from sklearn.feature_extraction.text import TfidfVectorizer\n",
    "    from sklearn.naive_bayes import MultinomialNB\n",
    "    from sklearn.metrics import roc_auc_score\n",
    "\n",
    "    spam_data_2 = spam_data.copy()\n",
    "    len(spam_data_2['text'][0])\n",
    "\n",
    "    not_spam = spam_data_2[spam_data_2['target']==0]\n",
    "    is_spam = spam_data_2[spam_data_2['target']==1]\n",
    "    not_spam.index\n",
    "\n",
    "    notspam_length = []\n",
    "    for i in not_spam.index:\n",
    "        l = (len(not_spam['text'][i]))\n",
    "        notspam_length.append(l)\n",
    "    notspam_length = np.array(notspam_length)\n",
    "    notspam_length.mean()\n",
    "\n",
    "    isspam_length = []\n",
    "    for i in is_spam.index:\n",
    "        l = len(is_spam['text'][i])\n",
    "        isspam_length.append(l)\n",
    "    isspam_length = np.array(isspam_length)\n",
    "    return (notspam_length.mean(),isspam_length.mean())\n",
    "\n",
    "answer_six_alternative()"
   ]
  },
  {
   "cell_type": "code",
   "execution_count": 12,
   "metadata": {},
   "outputs": [
    {
     "data": {
      "text/plain": [
       "(0.2992746113989637, 15.759036144578314)"
      ]
     },
     "execution_count": 12,
     "metadata": {},
     "output_type": "execute_result"
    }
   ],
   "source": [
    "def answer_eight():\n",
    "    \n",
    "    spam_data_2 = spam_data.copy()\n",
    "    spam_data_2['length'] = spam_data_2['text'].apply(lambda x: len(''.join([a for a in x if a.isdigit()])))\n",
    "    return spam_data_2[spam_data_2['target']==0].length.mean(), spam_data_2[spam_data_2['target']==1].length.mean()\n",
    "answer_eight()"
   ]
  },
  {
   "cell_type": "code",
   "execution_count": 13,
   "metadata": {},
   "outputs": [
    {
     "name": "stderr",
     "output_type": "stream",
     "text": [
      "/Users/emilyvincett/opt/anaconda3/lib/python3.8/site-packages/sklearn/linear_model/_logistic.py:762: ConvergenceWarning: lbfgs failed to converge (status=1):\n",
      "STOP: TOTAL NO. of ITERATIONS REACHED LIMIT.\n",
      "\n",
      "Increase the number of iterations (max_iter) or scale the data as shown in:\n",
      "    https://scikit-learn.org/stable/modules/preprocessing.html\n",
      "Please also refer to the documentation for alternative solver options:\n",
      "    https://scikit-learn.org/stable/modules/linear_model.html#logistic-regression\n",
      "  n_iter_i = _check_optimize_result(\n"
     ]
    },
    {
     "data": {
      "text/plain": [
       "0.9809793219360643"
      ]
     },
     "execution_count": 13,
     "metadata": {},
     "output_type": "execute_result"
    }
   ],
   "source": [
    "def answer_nine():\n",
    "    \n",
    "    from sklearn.feature_extraction.text import TfidfVectorizer\n",
    "    from sklearn.linear_model import LogisticRegression\n",
    "    from sklearn.metrics import roc_auc_score\n",
    "\n",
    "    vect = TfidfVectorizer(min_df=5, ngram_range=(1,3))\n",
    "    vect.fit(X_train)\n",
    "    X_train_vectorized = vect.transform(X_train)\n",
    "    X_test_vectorized = vect.transform(X_test)\n",
    "\n",
    "    #length of documents\n",
    "    len_x_train = X_train.apply(len)\n",
    "    len_x_test = X_test.apply(len)\n",
    "\n",
    "    # number of digits \n",
    "    dig_x_train = X_train.apply(lambda x: len(''.join([a for a in x if a.isdigit()])))\n",
    "    dig_x_test = X_test.apply(lambda x: len(''.join([a for a in x if a.isdigit()])))\n",
    "\n",
    "    X_train_add = add_feature(X_train_vectorized,[len_x_train,dig_x_train])\n",
    "    X_test_add = add_feature(X_test_vectorized, [len_x_test,dig_x_test])\n",
    "\n",
    "    clf = LogisticRegression(C=100)\n",
    "    clf.fit(X_train_add,y_train)\n",
    "    predictions = clf.predict(X_test_add)\n",
    "\n",
    "    return roc_auc_score(y_test,predictions)\n",
    "answer_nine()"
   ]
  },
  {
   "cell_type": "code",
   "execution_count": 14,
   "metadata": {},
   "outputs": [
    {
     "data": {
      "text/plain": [
       "(17.29181347150259, 29.041499330655956)"
      ]
     },
     "execution_count": 14,
     "metadata": {},
     "output_type": "execute_result"
    }
   ],
   "source": [
    "def answer_ten():\n",
    "    \n",
    "    spam_data['non_char_length']=spam_data['text'].str.findall(r'(\\W)').str.len()\n",
    "    return spam_data[spam_data['target']==0].non_char_length.mean(),spam_data[spam_data['target']==1].non_char_length.mean()\n",
    "answer_ten()    "
   ]
  },
  {
   "cell_type": "code",
   "execution_count": 15,
   "metadata": {},
   "outputs": [
    {
     "name": "stderr",
     "output_type": "stream",
     "text": [
      "/Users/emilyvincett/opt/anaconda3/lib/python3.8/site-packages/sklearn/linear_model/_logistic.py:762: ConvergenceWarning: lbfgs failed to converge (status=1):\n",
      "STOP: TOTAL NO. of ITERATIONS REACHED LIMIT.\n",
      "\n",
      "Increase the number of iterations (max_iter) or scale the data as shown in:\n",
      "    https://scikit-learn.org/stable/modules/preprocessing.html\n",
      "Please also refer to the documentation for alternative solver options:\n",
      "    https://scikit-learn.org/stable/modules/linear_model.html#logistic-regression\n",
      "  n_iter_i = _check_optimize_result(\n"
     ]
    },
    {
     "data": {
      "text/plain": [
       "(0.9805612617353955,\n",
       " ['..', '. ', ' i', ' go', 'ok', ' y', '? ', 'he', 'pe', 'go'],\n",
       " ['digit_count', 'co', 'ww', 'ne', 'ia', 'xt', 'ar', 'uk', 'mob', ' x'])"
      ]
     },
     "execution_count": 15,
     "metadata": {},
     "output_type": "execute_result"
    }
   ],
   "source": [
    "def answer_eleven():\n",
    "    \n",
    "    from sklearn.feature_extraction.text import CountVectorizer\n",
    "    from sklearn.linear_model import LogisticRegression\n",
    "    from sklearn.metrics import roc_auc_score\n",
    "\n",
    "    vect = CountVectorizer(min_df=5, ngram_range=(2,5),analyzer='char_wb')\n",
    "    vect.fit(X_train)\n",
    "    vect.fit(X_test)\n",
    "\n",
    "    X_train_vectorized = vect.transform(X_train)\n",
    "    X_test_vectorized = vect.transform(X_test)\n",
    "\n",
    "    #add length \n",
    "    len_x_train = X_train.apply(len)\n",
    "    len_x_test = X_test.apply(len)\n",
    "\n",
    "    #digit count \n",
    "    dig_x_train = X_train.apply(lambda x: len(''.join([a for a in x if a.isdigit()])))\n",
    "    dig_x_test = X_test.apply(lambda x: len(''.join([a for a in x if a.isdigit()])))\n",
    "\n",
    "    #non word char count \n",
    "    non_word_x_train = X_train.str.findall(r'(\\W)').str.len()\n",
    "    non_word_x_test = X_test.str.findall(r'(\\W)').str.len()\n",
    "\n",
    "    X_train_add = add_feature(X_train_vectorized, [len_x_train,dig_x_train,non_word_x_train,])\n",
    "    X_test_add = add_feature(X_test_vectorized,[len_x_test,dig_x_test,non_word_x_test])\n",
    "\n",
    "    clf = LogisticRegression(C=100)\n",
    "    clf.fit(X_train_add,y_train)\n",
    "    predictions = clf.predict(X_test_add)\n",
    "    auc = roc_auc_score(y_test,predictions)\n",
    "\n",
    "    feature_names = np.array(vect.get_feature_names() + ['length_of_doc','digit_count','non_word_char_count'])\n",
    "    sorted_coef_index = clf.coef_[0].argsort()\n",
    "    smallest = feature_names[sorted_coef_index][:10]\n",
    "    largest = feature_names[sorted_coef_index][:-11:-1]\n",
    "   \n",
    "    return (auc, list(smallest),list(largest))\n",
    "answer_eleven()"
   ]
  },
  {
   "cell_type": "code",
   "execution_count": 17,
   "metadata": {},
   "outputs": [
    {
     "data": {
      "text/html": [
       "<div>\n",
       "<style scoped>\n",
       "    .dataframe tbody tr th:only-of-type {\n",
       "        vertical-align: middle;\n",
       "    }\n",
       "\n",
       "    .dataframe tbody tr th {\n",
       "        vertical-align: top;\n",
       "    }\n",
       "\n",
       "    .dataframe thead th {\n",
       "        text-align: right;\n",
       "    }\n",
       "</style>\n",
       "<table border=\"1\" class=\"dataframe\">\n",
       "  <thead>\n",
       "    <tr style=\"text-align: right;\">\n",
       "      <th></th>\n",
       "      <th>text</th>\n",
       "      <th>target</th>\n",
       "      <th>non_char_length</th>\n",
       "    </tr>\n",
       "  </thead>\n",
       "  <tbody>\n",
       "    <tr>\n",
       "      <th>0</th>\n",
       "      <td>Go until jurong point, crazy.. Available only ...</td>\n",
       "      <td>0</td>\n",
       "      <td>28</td>\n",
       "    </tr>\n",
       "    <tr>\n",
       "      <th>1</th>\n",
       "      <td>Ok lar... Joking wif u oni...</td>\n",
       "      <td>0</td>\n",
       "      <td>11</td>\n",
       "    </tr>\n",
       "    <tr>\n",
       "      <th>2</th>\n",
       "      <td>Free entry in 2 a wkly comp to win FA Cup fina...</td>\n",
       "      <td>1</td>\n",
       "      <td>33</td>\n",
       "    </tr>\n",
       "    <tr>\n",
       "      <th>3</th>\n",
       "      <td>U dun say so early hor... U c already then say...</td>\n",
       "      <td>0</td>\n",
       "      <td>16</td>\n",
       "    </tr>\n",
       "    <tr>\n",
       "      <th>4</th>\n",
       "      <td>Nah I don't think he goes to usf, he lives aro...</td>\n",
       "      <td>0</td>\n",
       "      <td>14</td>\n",
       "    </tr>\n",
       "    <tr>\n",
       "      <th>...</th>\n",
       "      <td>...</td>\n",
       "      <td>...</td>\n",
       "      <td>...</td>\n",
       "    </tr>\n",
       "    <tr>\n",
       "      <th>5567</th>\n",
       "      <td>This is the 2nd time we have tried 2 contact u...</td>\n",
       "      <td>1</td>\n",
       "      <td>38</td>\n",
       "    </tr>\n",
       "    <tr>\n",
       "      <th>5568</th>\n",
       "      <td>Will Ì_ b going to esplanade fr home?</td>\n",
       "      <td>0</td>\n",
       "      <td>8</td>\n",
       "    </tr>\n",
       "    <tr>\n",
       "      <th>5569</th>\n",
       "      <td>Pity, * was in mood for that. So...any other s...</td>\n",
       "      <td>0</td>\n",
       "      <td>16</td>\n",
       "    </tr>\n",
       "    <tr>\n",
       "      <th>5570</th>\n",
       "      <td>The guy did some bitching but I acted like i'd...</td>\n",
       "      <td>0</td>\n",
       "      <td>26</td>\n",
       "    </tr>\n",
       "    <tr>\n",
       "      <th>5571</th>\n",
       "      <td>Rofl. Its true to its name</td>\n",
       "      <td>0</td>\n",
       "      <td>6</td>\n",
       "    </tr>\n",
       "  </tbody>\n",
       "</table>\n",
       "<p>5572 rows × 3 columns</p>\n",
       "</div>"
      ],
      "text/plain": [
       "                                                   text  target  \\\n",
       "0     Go until jurong point, crazy.. Available only ...       0   \n",
       "1                         Ok lar... Joking wif u oni...       0   \n",
       "2     Free entry in 2 a wkly comp to win FA Cup fina...       1   \n",
       "3     U dun say so early hor... U c already then say...       0   \n",
       "4     Nah I don't think he goes to usf, he lives aro...       0   \n",
       "...                                                 ...     ...   \n",
       "5567  This is the 2nd time we have tried 2 contact u...       1   \n",
       "5568              Will Ì_ b going to esplanade fr home?       0   \n",
       "5569  Pity, * was in mood for that. So...any other s...       0   \n",
       "5570  The guy did some bitching but I acted like i'd...       0   \n",
       "5571                         Rofl. Its true to its name       0   \n",
       "\n",
       "      non_char_length  \n",
       "0                  28  \n",
       "1                  11  \n",
       "2                  33  \n",
       "3                  16  \n",
       "4                  14  \n",
       "...               ...  \n",
       "5567               38  \n",
       "5568                8  \n",
       "5569               16  \n",
       "5570               26  \n",
       "5571                6  \n",
       "\n",
       "[5572 rows x 3 columns]"
      ]
     },
     "execution_count": 17,
     "metadata": {},
     "output_type": "execute_result"
    }
   ],
   "source": [
    "spam_data"
   ]
  },
  {
   "cell_type": "code",
   "execution_count": null,
   "metadata": {},
   "outputs": [],
   "source": []
  }
 ],
 "metadata": {
  "kernelspec": {
   "display_name": "Python 3",
   "language": "python",
   "name": "python3"
  },
  "language_info": {
   "codemirror_mode": {
    "name": "ipython",
    "version": 3
   },
   "file_extension": ".py",
   "mimetype": "text/x-python",
   "name": "python",
   "nbconvert_exporter": "python",
   "pygments_lexer": "ipython3",
   "version": "3.8.3"
  }
 },
 "nbformat": 4,
 "nbformat_minor": 4
}
