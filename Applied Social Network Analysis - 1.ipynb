{
 "cells": [
  {
   "cell_type": "code",
   "execution_count": 1,
   "metadata": {},
   "outputs": [],
   "source": [
    "import networkx as nx\n",
    "import pandas as pd \n",
    "import numpy as np \n",
    "from networkx.algorithms import bipartite\n",
    "import warnings\n",
    "warnings.filterwarnings(\"ignore\")\n",
    "\n",
    "mov = pd.read_csv('/Users/emilyvincett/Downloads/Employee_Movie_Choices.txt')\n",
    "\n",
    "# This is the set of employees\n",
    "employees = set(['Pablo',\n",
    "                 'Lee',\n",
    "                 'Georgia',\n",
    "                 'Vincent',\n",
    "                 'Andy',\n",
    "                 'Frida',\n",
    "                 'Joan',\n",
    "                 'Claude'])\n",
    "\n",
    "# This is the set of movies\n",
    "movies = set(['The Shawshank Redemption',\n",
    "              'Forrest Gump',\n",
    "              'The Matrix',\n",
    "              'Anaconda',\n",
    "              'The Social Network',\n",
    "              'The Godfather',\n",
    "              'Monty Python and the Holy Grail',\n",
    "              'Snakes on a Plane',\n",
    "              'Kung Fu Panda',\n",
    "              'The Dark Knight',\n",
    "              'Mean Girls'])\n",
    "\n",
    "\n",
    "# you can use the following function to plot graphs\n",
    "# make sure to comment it out before submitting to the autograder\n",
    "def plot_graph(G, weight_name=None):\n",
    "    '''\n",
    "    G: a networkx G\n",
    "    weight_name: name of the attribute for plotting edge weights (if G is weighted)\n",
    "    '''\n",
    "    %matplotlib notebook\n",
    "    import matplotlib.pyplot as plt\n",
    "    \n",
    "    plt.figure(figsize=(8,18))\n",
    "    pos = nx.spring_layout(G)\n",
    "    edges = G.edges()\n",
    "    weights = None\n",
    "    \n",
    "    if weight_name:\n",
    "        weights = [int(G[u][v][weight_name]) for u,v in edges]\n",
    "        labels = nx.get_edge_attributes(G,weight_name)\n",
    "        nx.draw_networkx_edge_labels(G,pos,edge_labels=labels)\n",
    "        nx.draw_networkx(G, pos, edges=edges, width=weights);\n",
    "    else:\n",
    "        nx.draw_networkx(G, pos, edges=edges);"
   ]
  },
  {
   "cell_type": "code",
   "execution_count": 2,
   "metadata": {
    "scrolled": true
   },
   "outputs": [
    {
     "data": {
      "text/plain": [
       "<networkx.classes.graph.Graph at 0x7f9846c3fe50>"
      ]
     },
     "execution_count": 2,
     "metadata": {},
     "output_type": "execute_result"
    }
   ],
   "source": [
    "def answer_one():\n",
    "    \n",
    "    B = nx.read_edgelist('/Users/emilyvincett/Downloads/Employee_Movie_Choices.txt', delimiter='\\t')\n",
    "    return B\n",
    "answer_one()"
   ]
  },
  {
   "cell_type": "code",
   "execution_count": 21,
   "metadata": {
    "scrolled": true
   },
   "outputs": [
    {
     "data": {
      "text/plain": [
       "<networkx.classes.graph.Graph at 0x7f984908ef40>"
      ]
     },
     "execution_count": 21,
     "metadata": {},
     "output_type": "execute_result"
    }
   ],
   "source": [
    "def answer_two():\n",
    "    c = answer_one()\n",
    "    for i in c.nodes: \n",
    "        if i in employees:\n",
    "            c.add_node(i, type='employees')\n",
    "        if i in movies: \n",
    "            c.add_node(i,type='movies')\n",
    "    return c\n",
    "   \n",
    "answer_two()"
   ]
  },
  {
   "cell_type": "code",
   "execution_count": 40,
   "metadata": {},
   "outputs": [
    {
     "data": {
      "text/plain": [
       "<networkx.classes.graph.Graph at 0x7f984908e340>"
      ]
     },
     "execution_count": 40,
     "metadata": {},
     "output_type": "execute_result"
    }
   ],
   "source": [
    "def answer_three():\n",
    "    c = answer_one()\n",
    "    for i in c.nodes: \n",
    "        if i in employees:\n",
    "            c.add_node(i, type='employees')\n",
    "        if i in movies: \n",
    "            c.add_node(i,type='movies')\n",
    "    p = bipartite.weighted_projected_graph(c,employees)\n",
    "    return p\n",
    "answer_three()"
   ]
  },
  {
   "cell_type": "code",
   "execution_count": 128,
   "metadata": {},
   "outputs": [
    {
     "data": {
      "text/plain": [
       "0.7883962221733476"
      ]
     },
     "execution_count": 128,
     "metadata": {},
     "output_type": "execute_result"
    }
   ],
   "source": [
    "def answer_four():\n",
    "    rel = nx.read_edgelist('/Users/emilyvincett/Downloads/Employee_Relationships.txt', data=[('Relationship_Score', int)])\n",
    "    rel_df = pd.DataFrame(rel.edges(data=True),columns=['From','To','Relationship Score'])\n",
    "\n",
    "    no_movies = pd.DataFrame(p.edges(data=True),columns=['From','To','No_of_movies'])\n",
    "    no_movies2 = no_movies.copy()\n",
    "    no_movies2.rename({'From':'To','To':'From'}, axis=1,inplace=True)\n",
    "    conc_ = pd.concat([no_movies,no_movies2])\n",
    "    _= rel_df.merge(conc_, left_on=['From','To'], right_on=['From','To'], how='left')\n",
    "    _.fillna(value=0, inplace=True)\n",
    "\n",
    "    _['No_of_movies'] = _['No_of_movies'].apply(lambda x: x['weight'] if type(x)==dict else None)\n",
    "    _['Relationship Score'] = _['Relationship Score'].apply(lambda x: x['Relationship_Score'] if type(x)== dict else None)\n",
    "    _ = _.fillna(value=0)\n",
    "    correlation = _.corr(method='pearson')['Relationship Score']['No_of_movies']\n",
    "    return correlation\n",
    "\n",
    "answer_four()"
   ]
  }
 ],
 "metadata": {
  "kernelspec": {
   "display_name": "Python 3",
   "language": "python",
   "name": "python3"
  },
  "language_info": {
   "codemirror_mode": {
    "name": "ipython",
    "version": 3
   },
   "file_extension": ".py",
   "mimetype": "text/x-python",
   "name": "python",
   "nbconvert_exporter": "python",
   "pygments_lexer": "ipython3",
   "version": "3.8.3"
  }
 },
 "nbformat": 4,
 "nbformat_minor": 4
}
