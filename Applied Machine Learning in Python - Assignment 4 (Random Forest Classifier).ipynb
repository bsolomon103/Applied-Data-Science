{
 "cells": [
  {
   "cell_type": "code",
   "execution_count": 36,
   "metadata": {},
   "outputs": [
    {
     "name": "stdout",
     "output_type": "stream",
     "text": [
      "Test Set AUC: 0.8025409426220244\n",
      "Grid Best Parameter: {'max_depth': 16, 'n_estimators': 150}\n",
      "Grid Best Score: 0.8042362164912635\n"
     ]
    },
    {
     "data": {
      "text/plain": [
       "ticket_id\n",
       "284932    0.065542\n",
       "285362    0.054010\n",
       "285361    0.174997\n",
       "285338    0.282128\n",
       "285346    0.339959\n",
       "            ...   \n",
       "376496    0.084203\n",
       "376497    0.084203\n",
       "376499    0.303693\n",
       "376500    0.303693\n",
       "369851    0.561931\n",
       "Length: 61001, dtype: float64"
      ]
     },
     "execution_count": 36,
     "metadata": {},
     "output_type": "execute_result"
    }
   ],
   "source": [
    "def blight_model():\n",
    "    \n",
    "    import pandas as pd\n",
    "    import numpy as np\n",
    "    from sklearn.model_selection import train_test_split, GridSearchCV\n",
    "    from sklearn.tree import DecisionTreeClassifier\n",
    "    from sklearn.ensemble import RandomForestClassifier, GradientBoostingClassifier\n",
    "    from sklearn.metrics import roc_auc_score \n",
    "    from sklearn.linear_model import LogisticRegression\n",
    "    \n",
    "\n",
    "\n",
    "    train = pd.read_csv('/Users/emilyvincett/downloads/train.csv', encoding = 'ISO-8859-1', low_memory=False)\n",
    "    train = train.dropna(subset = ['compliance'])\n",
    "    test = pd.read_csv('/Users/emilyvincett/downloads/test.csv', encoding = 'ISO-8859-1')\n",
    "\n",
    "    features = ['ticket_id','violation_street_number','judgment_amount',\n",
    "           'compliance']\n",
    "\n",
    "    test_features = ['ticket_id','violation_street_number','judgment_amount']\n",
    "\n",
    "    test = test[test_features]\n",
    "\n",
    "    train = train[features]\n",
    "    X = train.iloc[:,:-1]\n",
    "    y = train.iloc[:,-1]\n",
    "\n",
    "    X_train, X_test, y_train, y_test = train_test_split(X, y, random_state=0)\n",
    "\n",
    "    clf_r = RandomForestClassifier(random_state=0)\n",
    "    \n",
    "    grid_values = {'n_estimators': [100,150],\n",
    "                  'max_depth': [11,13,16]}\n",
    "    grid_clf_auc = GridSearchCV(clf_r, param_grid=grid_values, scoring='roc_auc', n_jobs = -1)\n",
    "    grid_clf_auc.fit(X_train, y_train)\n",
    "\n",
    "    y_pred_1 = grid_clf_auc.predict_proba(X_test)[:, 1]\n",
    "    y_pred = grid_clf_auc.predict_proba(test)[:, 1]\n",
    "\n",
    "    print('Test Set AUC:', roc_auc_score(y_test,y_pred_1))\n",
    "    print('Grid Best Parameter:', grid_clf_auc.best_params_)\n",
    "    print('Grid Best Score:', grid_clf_auc.best_score_)\n",
    "\n",
    "    series_y_pred = pd.Series(y_pred.reshape(len(test)), test.ticket_id)\n",
    "    return series_y_pred\n",
    "\n",
    "blight_model()"
   ]
  },
  {
   "cell_type": "code",
   "execution_count": null,
   "metadata": {},
   "outputs": [],
   "source": [
    "\n",
    "\n"
   ]
  },
  {
   "cell_type": "code",
   "execution_count": null,
   "metadata": {},
   "outputs": [],
   "source": []
  }
 ],
 "metadata": {
  "kernelspec": {
   "display_name": "Python 3",
   "language": "python",
   "name": "python3"
  },
  "language_info": {
   "codemirror_mode": {
    "name": "ipython",
    "version": 3
   },
   "file_extension": ".py",
   "mimetype": "text/x-python",
   "name": "python",
   "nbconvert_exporter": "python",
   "pygments_lexer": "ipython3",
   "version": "3.8.3"
  }
 },
 "nbformat": 4,
 "nbformat_minor": 4
}
