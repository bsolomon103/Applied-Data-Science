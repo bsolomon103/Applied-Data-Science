{
 "cells": [
  {
   "cell_type": "code",
   "execution_count": 7,
   "metadata": {},
   "outputs": [
    {
     "name": "stdout",
     "output_type": "stream",
     "text": [
      "Test Set AUC 0.7732579862108192\n"
     ]
    },
    {
     "data": {
      "text/plain": [
       "ticket_id\n",
       "284932    0.114158\n",
       "285362    0.033733\n",
       "285361    0.102978\n",
       "285338    0.135539\n",
       "285346    0.122555\n",
       "            ...   \n",
       "376496    0.169976\n",
       "376497    0.169976\n",
       "376499    0.402415\n",
       "376500    0.402415\n",
       "369851    0.857920\n",
       "Length: 61001, dtype: float64"
      ]
     },
     "execution_count": 7,
     "metadata": {},
     "output_type": "execute_result"
    }
   ],
   "source": [
    "def blight_model():\n",
    "    \n",
    "    import pandas as pd\n",
    "    import numpy as np\n",
    "    from sklearn.model_selection import train_test_split, GridSearchCV\n",
    "    from sklearn.metrics import roc_auc_score \n",
    "    from sklearn.ensemble import GradientBoostingClassifier\n",
    "\n",
    "\n",
    "    train = pd.read_csv('/Users/emilyvincett/downloads/train.csv', encoding = 'ISO-8859-1', low_memory = False)\n",
    "    test = pd.read_csv('/Users/emilyvincett/downloads/test.csv', encoding = 'ISO-8859-1')\n",
    "    train.head(2)  \n",
    "    features = ['ticket_id','violation_street_number',\n",
    "            'judgment_amount','compliance']\n",
    "    train = train[features]\n",
    "    train = train.dropna(subset=['compliance'])\n",
    "    test_features = ['ticket_id','violation_street_number','judgment_amount']\n",
    "    test = test[test_features]\n",
    "\n",
    "    X = train.iloc[:,:-1]\n",
    "    y = train.iloc[:,-1]\n",
    "\n",
    "    X_train, X_test, y_train, y_test = train_test_split(X, y, random_state=0)\n",
    "\n",
    "    gb_clf = GradientBoostingClassifier().fit(X_train, y_train)\n",
    "\n",
    "\n",
    "    y_pred = gb_clf.predict_proba(X_test)[:,1]\n",
    "\n",
    "    #print('Test Set AUC', roc_auc_score(y_test, y_pred))\n",
    "\n",
    "    y_pred_1 = gb_clf.predict_proba(test)[:,1]\n",
    "    series = pd.Series(y_pred_1.reshape(len(test)), test.ticket_id)\n",
    "    return series\n",
    "\n",
    "blight_model()"
   ]
  },
  {
   "cell_type": "code",
   "execution_count": null,
   "metadata": {},
   "outputs": [],
   "source": []
  }
 ],
 "metadata": {
  "kernelspec": {
   "display_name": "Python 3",
   "language": "python",
   "name": "python3"
  },
  "language_info": {
   "codemirror_mode": {
    "name": "ipython",
    "version": 3
   },
   "file_extension": ".py",
   "mimetype": "text/x-python",
   "name": "python",
   "nbconvert_exporter": "python",
   "pygments_lexer": "ipython3",
   "version": "3.8.3"
  }
 },
 "nbformat": 4,
 "nbformat_minor": 4
}
